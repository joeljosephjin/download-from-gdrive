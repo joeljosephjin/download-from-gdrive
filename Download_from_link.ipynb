{
  "nbformat": 4,
  "nbformat_minor": 0,
  "metadata": {
    "colab": {
      "name": "Download from link",
      "version": "0.3.2",
      "provenance": []
    },
    "kernelspec": {
      "name": "python3",
      "display_name": "Python 3"
    }
  },
  "cells": [
    {
      "cell_type": "code",
      "metadata": {
        "id": "bPMGFP_XL_dM",
        "colab_type": "code",
        "outputId": "a6032415-3d1a-4d01-d260-cde79ac50fff",
        "colab": {
          "base_uri": "https://localhost:8080/",
          "height": 136
        }
      },
      "source": [
        "!ls"
      ],
      "execution_count": 11,
      "outputs": [
        {
          "output_type": "stream",
          "text": [
            "'Download from link.ipynb'\n",
            " Inside_Out.mp4\n",
            " Interstellar.mp4\n",
            "'Pan'\\''s_Labyrinth(Spanish with English subtitles).mp4'\n",
            " save_movies.py\n",
            "'The Big Short(2015).mp4'\n",
            " The_Shawshank_Redemption.mp4\n"
          ],
          "name": "stdout"
        }
      ]
    },
    {
      "cell_type": "code",
      "metadata": {
        "id": "2HhXrW0rCIKW",
        "colab_type": "code",
        "outputId": "c37292be-09f4-472c-fba3-2beae8a04dad",
        "colab": {
          "base_uri": "https://localhost:8080/",
          "height": 122
        }
      },
      "source": [
        "from google.colab import drive\n",
        "drive.mount('/content/drive', force_remount=True)"
      ],
      "execution_count": 2,
      "outputs": [
        {
          "output_type": "stream",
          "text": [
            "Go to this URL in a browser: https://accounts.google.com/o/oauth2/auth?client_id=947318989803-6bn6qk8qdgf4n4g3pfee6491hc0brc4i.apps.googleusercontent.com&redirect_uri=urn%3Aietf%3Awg%3Aoauth%3A2.0%3Aoob&scope=email%20https%3A%2F%2Fwww.googleapis.com%2Fauth%2Fdocs.test%20https%3A%2F%2Fwww.googleapis.com%2Fauth%2Fdrive%20https%3A%2F%2Fwww.googleapis.com%2Fauth%2Fdrive.photos.readonly%20https%3A%2F%2Fwww.googleapis.com%2Fauth%2Fpeopleapi.readonly&response_type=code\n",
            "\n",
            "Enter your authorization code:\n",
            "··········\n",
            "Mounted at /content/drive\n"
          ],
          "name": "stdout"
        }
      ]
    },
    {
      "cell_type": "code",
      "metadata": {
        "id": "A7OX0b1zFftN",
        "colab_type": "code",
        "colab": {}
      },
      "source": [
        "import os\n",
        "os.chdir(\"drive/My Drive/Movies\")"
      ],
      "execution_count": 0,
      "outputs": []
    },
    {
      "cell_type": "code",
      "metadata": {
        "id": "N3lR2vnFDu6e",
        "colab_type": "code",
        "colab": {}
      },
      "source": [
        "# imported the requests library \n",
        "import requests \n",
        "\n",
        "def downloader(url, name, extension='.mp4'):  \n",
        "  # URL of the image to be downloaded is defined as image_url \n",
        "  r = requests.get(url) # create HTTP response object \n",
        "    \n",
        "  # send a HTTP request to the server and save \n",
        "  # the HTTP response in a response object called r \n",
        "  with open(name+extension,'wb') as f: \n",
        "    \n",
        "      # Saving received content as a png file in \n",
        "      # binary format \n",
        "    \n",
        "      # write the contents of the response (r.content) \n",
        "      # to a new file in binary mode. \n",
        "      f.write(r.content) "
      ],
      "execution_count": 0,
      "outputs": []
    },
    {
      "cell_type": "code",
      "metadata": {
        "id": "dpZghklUGBe4",
        "colab_type": "code",
        "colab": {}
      },
      "source": [
        "url = \"https://de3.seedr.cc/ff_get/515205508/Interstellar.2014.720p.BluRay.x264.YIFY.mp4?st=dBFoEpjAxzC0xy0wNhWb-Q&e=1568486590\"  # download link here\n",
        "name = \"Interstellar\"          # name of the movie\n",
        "downloader(url, name)"
      ],
      "execution_count": 0,
      "outputs": []
    }
  ]
}